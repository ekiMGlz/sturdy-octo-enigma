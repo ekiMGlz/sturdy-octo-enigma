{
 "nbformat": 4,
 "nbformat_minor": 2,
 "metadata": {
  "language_info": {
   "name": "python",
   "codemirror_mode": {
    "name": "ipython",
    "version": 3
   },
   "version": "3.7.3"
  },
  "orig_nbformat": 2,
  "file_extension": ".py",
  "mimetype": "text/x-python",
  "name": "python",
  "npconvert_exporter": "python",
  "pygments_lexer": "ipython3",
  "version": 3
 },
 "cells": [
  {
   "cell_type": "code",
   "execution_count": 1,
   "metadata": {},
   "outputs": [],
   "source": [
    "import numpy as np\n",
    "from itertools import combinations\n",
    "import matplotlib.pyplot as plt\n",
    "import networkx as nx\n",
    "import time\n",
    "import matplotlib.animation as animation\n",
    "%matplotlib qt"
   ]
  },
  {
   "cell_type": "code",
   "execution_count": 68,
   "metadata": {},
   "outputs": [],
   "source": [
    "def nearest_neighbor(Edges, weights):\n",
    "    \"\"\"\n",
    "        E: Arreglo de aristas del grafo\n",
    "        d: distancias de cada arista\n",
    "    \"\"\"\n",
    "    \n",
    "    next_edge = np.argmin(weights)\n",
    "    \n",
    "    T = list(Edges[next_edge, :])\n",
    "    ordered_el = [Edges[next_edge]]\n",
    "    S = weights[next_edge]\n",
    "\n",
    "    E = np.delete(Edges, next_edge, axis=0)\n",
    "    d = np.delete(weights, next_edge, axis=0)\n",
    "\n",
    "\n",
    "    while len(E) > 0:\n",
    "        # Encontrar minima distancia conectada a un extremo del recorrido\n",
    "        next_edge = np.argmin(np.where(np.any(np.isin(E, [T[0], T[-1]]), axis=1), d, np.inf))\n",
    "\n",
    "        # Revisar si la arista va al principio o al final del recorrido\n",
    "        a, b = E[next_edge]\n",
    "        if a == T[0]: \n",
    "            T.insert(0, b)\n",
    "        elif b == T[0]:\n",
    "            T.insert(0, a)\n",
    "            b, a = a, b\n",
    "        elif a == T[-1]:\n",
    "            T.append(b)\n",
    "        else:\n",
    "            T.append(a)\n",
    "            b, a = a, b\n",
    "        ordered_el.append(E[next_edge])\n",
    "        S += d[next_edge]\n",
    "\n",
    "        # a es nodo extremo previo, b es el nuevo extremo\n",
    "        mask = ~np.logical_or(np.any(E == a, axis=1), np.all(np.isin(E, T), axis=1))\n",
    "        E = E[mask]\n",
    "        d = d[mask]\n",
    "\n",
    "    a, b = np.sort([T[0], T[-1]])\n",
    "    ordered_el.append([a, b])\n",
    "    \n",
    "    for edg, dist in zip(Edges, weights):\n",
    "        if edg[0] == a and edg[1] == b:\n",
    "            S += dist\n",
    "\n",
    "    return T, S, ordered_el"
   ]
  },
  {
   "cell_type": "code",
   "execution_count": 69,
   "metadata": {},
   "outputs": [],
   "source": [
    "n = 10\n",
    "#C = np.loadtxt(\"data.txt\", usecols=(1, 2), max_rows=n)\n",
    "C = np.loadtxt(\"datos_unicos.txt\", max_rows=n)\n",
    "E = np.array(list(combinations(range(n), 2)))\n",
    "d = np.linalg.norm(C[E[:, 0], :] - C[E[:, 1], :], axis=1)"
   ]
  },
  {
   "cell_type": "code",
   "execution_count": 70,
   "metadata": {},
   "outputs": [],
   "source": [
    "# Guardar datos unicos\n",
    "#np.savetxt(\"datos_unicos.txt\", np.unique(C, axis=0))"
   ]
  },
  {
   "cell_type": "code",
   "execution_count": 71,
   "metadata": {},
   "outputs": [
    {
     "data": {
      "text/plain": "0.0015293000001292967"
     },
     "execution_count": 71,
     "metadata": {},
     "output_type": "execute_result"
    }
   ],
   "source": [
    "t = time.perf_counter()\n",
    "T, S, ordered_el = nearest_neighbor(E, d)\n",
    "t = time.perf_counter() - t\n",
    "t"
   ]
  },
  {
   "cell_type": "code",
   "execution_count": 72,
   "metadata": {},
   "outputs": [
    {
     "data": {
      "text/plain": "710.3022594871238"
     },
     "execution_count": 72,
     "metadata": {},
     "output_type": "execute_result"
    }
   ],
   "source": [
    "S"
   ]
  },
  {
   "cell_type": "code",
   "execution_count": 73,
   "metadata": {},
   "outputs": [],
   "source": [
    "G = nx.Graph()\n",
    "G.add_weighted_edges_from(zip(E[:, 0], E[:, 1], d))"
   ]
  },
  {
   "cell_type": "code",
   "execution_count": 74,
   "metadata": {},
   "outputs": [],
   "source": [
    "def edges_from_tour(T):\n",
    "    return [(x, y) for x, y in zip(T, T[1:])] + [(T[-1], T[0])]"
   ]
  },
  {
   "cell_type": "code",
   "execution_count": 75,
   "metadata": {},
   "outputs": [],
   "source": [
    "locs = dict(zip(range(n), C[:n, :]))\n",
    "edgs = edges_from_tour(T)\n",
    "\n",
    "nx.draw_networkx(G, locs, edgelist=edgs, node_size=200)\n",
    "plt.show()"
   ]
  },
  {
   "cell_type": "code",
   "execution_count": 38,
   "metadata": {},
   "outputs": [],
   "source": [
    "fig, ax = plt.subplots(figsize=(10, 10))\n",
    "nx.draw_networkx(G, locs, edgelist=[], node_size=200, ax=ax)\n",
    "def anim_tour(i):\n",
    "    nx.draw_networkx_edges(G, locs, [ordered_el[i]])\n",
    "#ax.set_aspect('equal')\n",
    "anim = animation.FuncAnimation(fig, anim_tour, range(len(edgs)), interval=1000)\n",
    "plt.show()"
   ]
  },
  {
   "cell_type": "code",
   "execution_count": 85,
   "metadata": {},
   "outputs": [],
   "source": [
    "N = [5, 10, 20, 30, 40, 50, 75, 100, 125, 150, 200]\n",
    "bench = np.zeros([len(N), 3])\n",
    "for n, row in zip(N, bench):\n",
    "    C = np.loadtxt(\"datos_unicos.txt\", max_rows=n)\n",
    "    E = np.array(list(combinations(range(n), 2)))\n",
    "    d = np.linalg.norm(C[E[:, 0], :] - C[E[:, 1], :], axis=1)\n",
    "\n",
    "    t = time.perf_counter()\n",
    "    _, S, oredered_el = nearest_neighbor(E, d)\n",
    "    t = time.perf_counter() - t\n",
    "    row[:] =[n, t, S] \n",
    "\n",
    "np.savetxt(\"benchmark_NN.txt\", bench)"
   ]
  },
  {
   "cell_type": "code",
   "execution_count": null,
   "metadata": {},
   "outputs": [],
   "source": []
  }
 ]
}