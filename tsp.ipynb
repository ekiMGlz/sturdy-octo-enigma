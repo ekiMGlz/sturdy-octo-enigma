{
 "nbformat": 4,
 "nbformat_minor": 2,
 "metadata": {
  "language_info": {
   "name": "python",
   "codemirror_mode": {
    "name": "ipython",
    "version": 3
   },
   "version": "3.7.3"
  },
  "orig_nbformat": 2,
  "file_extension": ".py",
  "mimetype": "text/x-python",
  "name": "python",
  "npconvert_exporter": "python",
  "pygments_lexer": "ipython3",
  "version": 3
 },
 "cells": [
  {
   "cell_type": "code",
   "execution_count": 2,
   "metadata": {},
   "outputs": [],
   "source": [
    "import time\n",
    "import numpy as np\n",
    "import matplotlib.pyplot as plt\n",
    "import networkx as nx\n",
    "import matplotlib.animation as animation\n",
    "from itertools import combinations\n",
    "\n",
    "%matplotlib qt"
   ]
  },
  {
   "cell_type": "markdown",
   "execution_count": null,
   "metadata": {},
   "outputs": [],
   "source": [
    "# Vecino más Cercano para el TSP"
   ]
  },
  {
   "cell_type": "code",
   "execution_count": 3,
   "metadata": {},
   "outputs": [],
   "source": [
    "def nearest_neighbor(Edges, weights):\n",
    "    \"\"\"\n",
    "        Edges: Arreglo de aristas del grafo\n",
    "        weights: distancias de cada arista\n",
    "    \"\"\"\n",
    "    # Encontrar la arista de menor peso para iniciar el recorrido\n",
    "    next_edge = np.argmin(weights)\n",
    "    \n",
    "    T = list(Edges[next_edge, :])\n",
    "    ordered_el = [Edges[next_edge]]\n",
    "    S = weights[next_edge]\n",
    "\n",
    "    E = np.delete(Edges, next_edge, axis=0)\n",
    "    d = np.delete(weights, next_edge, axis=0)\n",
    "\n",
    "\n",
    "    while len(E) > 0:\n",
    "        # Encontrar minima distancia conectada a un extremo del recorrido\n",
    "        next_edge = np.argmin(np.where(np.any(np.isin(E, [T[0], T[-1]]), axis=1), d, np.inf))\n",
    "\n",
    "        # Revisar si la arista va al principio o al final del recorrido\n",
    "        a, b = E[next_edge]\n",
    "        if a == T[0]: \n",
    "            T.insert(0, b)\n",
    "        elif b == T[0]:\n",
    "            T.insert(0, a)\n",
    "            b, a = a, b\n",
    "        elif a == T[-1]:\n",
    "            T.append(b)\n",
    "        else:\n",
    "            T.append(a)\n",
    "            b, a = a, b\n",
    "        ordered_el.append(E[next_edge])\n",
    "        S += d[next_edge]\n",
    "\n",
    "        # Descartar aristas invalidas para el problema\n",
    "        mask = ~np.logical_or(np.any(E == a, axis=1), np.all(np.isin(E, T), axis=1))\n",
    "        E = E[mask]\n",
    "        d = d[mask]\n",
    "\n",
    "    # Cerrar el recorrido\n",
    "    a, b = np.sort([T[0], T[-1]])\n",
    "    ordered_el.append([a, b])\n",
    "    \n",
    "    for edg, dist in zip(Edges, weights):\n",
    "        if edg[0] == a and edg[1] == b:\n",
    "            S += dist\n",
    "\n",
    "    return T, S, ordered_el\n",
    "\n",
    "def edges_from_tour(T):\n",
    "    return [(x, y) for x, y in zip(T, T[1:])] + [(T[-1], T[0])]"
   ]
  },
  {
   "cell_type": "markdown",
   "execution_count": null,
   "metadata": {},
   "outputs": [],
   "source": [
    "## Solución para n particular"
   ]
  },
  {
   "cell_type": "code",
   "execution_count": 18,
   "metadata": {},
   "outputs": [
    {
     "name": "stdout",
     "output_type": "stream",
     "text": "Numero de ciudades:\t10\nCosto:\t\t\t710.3022594871238\nTiempo:\t\t\t0.0017053999999916414\n"
    }
   ],
   "source": [
    "n = 10\n",
    "C = np.loadtxt(\"data/datos_unicos.txt\", max_rows=n)\n",
    "E = np.array(list(combinations(range(n), 2)))\n",
    "d = np.linalg.norm(C[E[:, 0], :] - C[E[:, 1], :], axis=1)\n",
    "\n",
    "t = time.perf_counter()\n",
    "T, S, ordered_el = nearest_neighbor(E, d)\n",
    "t = time.perf_counter() - t\n",
    "print(\"Numero de ciudades:\\t{}\\nCosto:\\t\\t\\t{}\\nTiempo:\\t\\t\\t{} s\".format(n, S, t))"
   ]
  },
  {
   "cell_type": "code",
   "execution_count": 33,
   "metadata": {},
   "outputs": [],
   "source": [
    "G = nx.Graph()\n",
    "G.add_weighted_edges_from(zip(E[:, 0], E[:, 1], d))\n",
    "\n",
    "locs = dict(zip(range(n), C[:n, :]))\n",
    "edgs = edges_from_tour(T)\n",
    "\n",
    "nx.draw_networkx(G, locs, edgelist=edgs, node_size=200)\n",
    "plt.show()"
   ]
  },
  {
   "cell_type": "code",
   "execution_count": 6,
   "metadata": {},
   "outputs": [],
   "source": [
    "fig, ax = plt.subplots(figsize=(10, 10))\n",
    "nx.draw_networkx(G, locs, edgelist=[], node_size=200, ax=ax)\n",
    "def anim_tour(i):\n",
    "    nx.draw_networkx_edges(G, locs, [ordered_el[i]], ax=ax)\n",
    "#ax.set_aspect('equal')\n",
    "anim = animation.FuncAnimation(fig, anim_tour, range(len(edgs)), interval=1000)\n",
    "plt.show()"
   ]
  },
  {
   "cell_type": "markdown",
   "execution_count": null,
   "metadata": {},
   "outputs": [],
   "source": [
    "## Comparación contra solución exacta"
   ]
  },
  {
   "cell_type": "code",
   "execution_count": 11,
   "metadata": {},
   "outputs": [],
   "source": [
    "# N = [5, 10, 20, 30, 40, 50, 75, 100, 125, 150, 200, 250, 300, 400, 500, 600, 634]\n",
    "# bench_NN = np.zeros([len(N), 3])\n",
    "\n",
    "# for n, row in zip(N, bench_NN):\n",
    "#    C = np.loadtxt(\"data/datos_unicos.txt\", max_rows=n)\n",
    "#    E = np.array(list(combinations(range(n), 2)))\n",
    "#    d = np.linalg.norm(C[E[:, 0], :] - C[E[:, 1], :], axis=1)\n",
    "\n",
    "#    t = time.perf_counter()\n",
    "#    _, S, oredered_el = nearest_neighbor(E, d)\n",
    "#    t = time.perf_counter() - t\n",
    "#    row[:] =[n, t, S] \n",
    "\n",
    "# np.savetxt(\"data/benchmark_NN.txt\", bench_NN)"
   ]
  },
  {
   "cell_type": "code",
   "execution_count": 28,
   "metadata": {},
   "outputs": [],
   "source": [
    "bench_NN = np.loadtxt(\"data/benchmark_NN.txt\")\n",
    "bench_dantzig = np.loadtxt(\"data/benchmark_dantzig.txt\")\n",
    "\n",
    "plt.plot(bench_dantzig[:, 0], bench_dantzig[:, 1])\n",
    "\n",
    "plt.axis([5, 300, 0, 400])\n",
    "plt.ylabel(\"Tiempo [s]\")\n",
    "plt.xlabel(\"Número de Ciudades\")\n",
    "plt.title(\"Tiempo de Ejecución con PLE\")\n",
    "\n",
    "plt.savefig(\"img/res_d.png\", dpi=300)\n",
    "plt.show()"
   ]
  },
  {
   "cell_type": "code",
   "execution_count": 29,
   "metadata": {},
   "outputs": [],
   "source": [
    "plt.plot(bench_NN[:, 0], bench_NN[:, 1])\n",
    "\n",
    "plt.axis([5, 634, 0, 10])\n",
    "plt.ylabel(\"Tiempo [s]\")\n",
    "plt.xlabel(\"Número de Ciudades\")\n",
    "plt.title(\"Tiempo de Ejecución con NN\")\n",
    "\n",
    "plt.savefig(\"img/res_nn.png\", dpi=300)\n",
    "plt.show()"
   ]
  },
  {
   "cell_type": "code",
   "execution_count": 31,
   "metadata": {},
   "outputs": [],
   "source": [
    "plt.plot(bench_dantzig[:, 0], bench_dantzig[:, 1] - bench_NN[:13, 1])\n",
    "\n",
    "plt.axis([5, 300, 0, 400])\n",
    "plt.ylabel(\"Tiempo [s]\")\n",
    "plt.xlabel(\"Número de Ciudades\")\n",
    "plt.title(\"Diferencia en Tiempo de Ejecución\")\n",
    "\n",
    "plt.savefig(\"img/diff_tiempo.png\", dpi=300)\n",
    "plt.show()"
   ]
  },
  {
   "cell_type": "code",
   "execution_count": 32,
   "metadata": {},
   "outputs": [],
   "source": [
    "plt.plot(bench_dantzig[:, 0], bench_dantzig[:, 2], label=\"PLE\")\n",
    "plt.plot(bench_NN[:13, 0], bench_NN[:13, 2], label=\"Vecino más Cercano\")\n",
    "\n",
    "plt.axis([5, 300, 0, 7000])\n",
    "plt.ylabel(\"Costo\")\n",
    "plt.xlabel(\"Número de Ciudades\")\n",
    "plt.title(\"Costo de Solución\")\n",
    "plt.legend()\n",
    "\n",
    "plt.savefig(\"img/cto_d_nn.png\", dpi=300)\n",
    "plt.show()"
   ]
  },
  {
   "cell_type": "code",
   "execution_count": null,
   "metadata": {},
   "outputs": [],
   "source": []
  }
 ]
}